{
 "cells": [
  {
   "cell_type": "code",
   "execution_count": 1,
   "id": "daa5808d",
   "metadata": {},
   "outputs": [],
   "source": [
    "import pandas as pd\n",
    "import numpy as np"
   ]
  },
  {
   "cell_type": "code",
   "execution_count": 2,
   "id": "55e78bb4",
   "metadata": {},
   "outputs": [],
   "source": [
    "df = pd.read_csv('all_stocks_5yr.csv',parse_dates=True, index_col='date')"
   ]
  },
  {
   "cell_type": "code",
   "execution_count": 3,
   "id": "d761d065",
   "metadata": {},
   "outputs": [
    {
     "data": {
      "text/html": [
       "<div>\n",
       "<style scoped>\n",
       "    .dataframe tbody tr th:only-of-type {\n",
       "        vertical-align: middle;\n",
       "    }\n",
       "\n",
       "    .dataframe tbody tr th {\n",
       "        vertical-align: top;\n",
       "    }\n",
       "\n",
       "    .dataframe thead th {\n",
       "        text-align: right;\n",
       "    }\n",
       "</style>\n",
       "<table border=\"1\" class=\"dataframe\">\n",
       "  <thead>\n",
       "    <tr style=\"text-align: right;\">\n",
       "      <th></th>\n",
       "      <th>open</th>\n",
       "      <th>high</th>\n",
       "      <th>low</th>\n",
       "      <th>close</th>\n",
       "      <th>volume</th>\n",
       "      <th>Name</th>\n",
       "    </tr>\n",
       "    <tr>\n",
       "      <th>date</th>\n",
       "      <th></th>\n",
       "      <th></th>\n",
       "      <th></th>\n",
       "      <th></th>\n",
       "      <th></th>\n",
       "      <th></th>\n",
       "    </tr>\n",
       "  </thead>\n",
       "  <tbody>\n",
       "    <tr>\n",
       "      <th>2013-02-08</th>\n",
       "      <td>15.07</td>\n",
       "      <td>15.12</td>\n",
       "      <td>14.63</td>\n",
       "      <td>14.75</td>\n",
       "      <td>8407500</td>\n",
       "      <td>AAL</td>\n",
       "    </tr>\n",
       "    <tr>\n",
       "      <th>2013-02-11</th>\n",
       "      <td>14.89</td>\n",
       "      <td>15.01</td>\n",
       "      <td>14.26</td>\n",
       "      <td>14.46</td>\n",
       "      <td>8882000</td>\n",
       "      <td>AAL</td>\n",
       "    </tr>\n",
       "    <tr>\n",
       "      <th>2013-02-12</th>\n",
       "      <td>14.45</td>\n",
       "      <td>14.51</td>\n",
       "      <td>14.10</td>\n",
       "      <td>14.27</td>\n",
       "      <td>8126000</td>\n",
       "      <td>AAL</td>\n",
       "    </tr>\n",
       "    <tr>\n",
       "      <th>2013-02-13</th>\n",
       "      <td>14.30</td>\n",
       "      <td>14.94</td>\n",
       "      <td>14.25</td>\n",
       "      <td>14.66</td>\n",
       "      <td>10259500</td>\n",
       "      <td>AAL</td>\n",
       "    </tr>\n",
       "    <tr>\n",
       "      <th>2013-02-14</th>\n",
       "      <td>14.94</td>\n",
       "      <td>14.96</td>\n",
       "      <td>13.16</td>\n",
       "      <td>13.99</td>\n",
       "      <td>31879900</td>\n",
       "      <td>AAL</td>\n",
       "    </tr>\n",
       "  </tbody>\n",
       "</table>\n",
       "</div>"
      ],
      "text/plain": [
       "             open   high    low  close    volume Name\n",
       "date                                                 \n",
       "2013-02-08  15.07  15.12  14.63  14.75   8407500  AAL\n",
       "2013-02-11  14.89  15.01  14.26  14.46   8882000  AAL\n",
       "2013-02-12  14.45  14.51  14.10  14.27   8126000  AAL\n",
       "2013-02-13  14.30  14.94  14.25  14.66  10259500  AAL\n",
       "2013-02-14  14.94  14.96  13.16  13.99  31879900  AAL"
      ]
     },
     "execution_count": 3,
     "metadata": {},
     "output_type": "execute_result"
    }
   ],
   "source": [
    "df.head()"
   ]
  },
  {
   "cell_type": "code",
   "execution_count": 4,
   "id": "cb1cf746",
   "metadata": {},
   "outputs": [
    {
     "data": {
      "text/plain": [
       "pandas.core.indexes.datetimes.DatetimeIndex"
      ]
     },
     "execution_count": 4,
     "metadata": {},
     "output_type": "execute_result"
    }
   ],
   "source": [
    "type(df.index)"
   ]
  },
  {
   "cell_type": "code",
   "execution_count": 9,
   "id": "997e637d",
   "metadata": {},
   "outputs": [],
   "source": [
    "#Stock Selection\n",
    "df = df[df['Name']=='AAPL']"
   ]
  },
  {
   "cell_type": "code",
   "execution_count": 10,
   "id": "d56141d6",
   "metadata": {},
   "outputs": [
    {
     "name": "stdout",
     "output_type": "stream",
     "text": [
      "<class 'pandas.core.frame.DataFrame'>\n",
      "DatetimeIndex: 1259 entries, 2013-02-08 to 2018-02-07\n",
      "Data columns (total 6 columns):\n",
      " #   Column  Non-Null Count  Dtype  \n",
      "---  ------  --------------  -----  \n",
      " 0   open    1259 non-null   float64\n",
      " 1   high    1259 non-null   float64\n",
      " 2   low     1259 non-null   float64\n",
      " 3   close   1259 non-null   float64\n",
      " 4   volume  1259 non-null   int64  \n",
      " 5   Name    1259 non-null   object \n",
      "dtypes: float64(4), int64(1), object(1)\n",
      "memory usage: 68.9+ KB\n"
     ]
    }
   ],
   "source": [
    "df.info()"
   ]
  },
  {
   "cell_type": "code",
   "execution_count": 11,
   "id": "926a5bde",
   "metadata": {},
   "outputs": [
    {
     "data": {
      "text/html": [
       "<div>\n",
       "<style scoped>\n",
       "    .dataframe tbody tr th:only-of-type {\n",
       "        vertical-align: middle;\n",
       "    }\n",
       "\n",
       "    .dataframe tbody tr th {\n",
       "        vertical-align: top;\n",
       "    }\n",
       "\n",
       "    .dataframe thead th {\n",
       "        text-align: right;\n",
       "    }\n",
       "</style>\n",
       "<table border=\"1\" class=\"dataframe\">\n",
       "  <thead>\n",
       "    <tr style=\"text-align: right;\">\n",
       "      <th></th>\n",
       "      <th>open</th>\n",
       "      <th>high</th>\n",
       "      <th>low</th>\n",
       "      <th>close</th>\n",
       "      <th>volume</th>\n",
       "    </tr>\n",
       "  </thead>\n",
       "  <tbody>\n",
       "    <tr>\n",
       "      <th>count</th>\n",
       "      <td>1259.000000</td>\n",
       "      <td>1259.000000</td>\n",
       "      <td>1259.000000</td>\n",
       "      <td>1259.000000</td>\n",
       "      <td>1.259000e+03</td>\n",
       "    </tr>\n",
       "    <tr>\n",
       "      <th>mean</th>\n",
       "      <td>109.055429</td>\n",
       "      <td>109.951118</td>\n",
       "      <td>108.141589</td>\n",
       "      <td>109.066698</td>\n",
       "      <td>5.404790e+07</td>\n",
       "    </tr>\n",
       "    <tr>\n",
       "      <th>std</th>\n",
       "      <td>30.549220</td>\n",
       "      <td>30.686186</td>\n",
       "      <td>30.376224</td>\n",
       "      <td>30.556812</td>\n",
       "      <td>3.346835e+07</td>\n",
       "    </tr>\n",
       "    <tr>\n",
       "      <th>min</th>\n",
       "      <td>55.424200</td>\n",
       "      <td>57.085700</td>\n",
       "      <td>55.014200</td>\n",
       "      <td>55.789900</td>\n",
       "      <td>1.147592e+07</td>\n",
       "    </tr>\n",
       "    <tr>\n",
       "      <th>25%</th>\n",
       "      <td>84.647800</td>\n",
       "      <td>85.334950</td>\n",
       "      <td>84.250650</td>\n",
       "      <td>84.830650</td>\n",
       "      <td>2.969438e+07</td>\n",
       "    </tr>\n",
       "    <tr>\n",
       "      <th>50%</th>\n",
       "      <td>108.970000</td>\n",
       "      <td>110.030000</td>\n",
       "      <td>108.050000</td>\n",
       "      <td>109.010000</td>\n",
       "      <td>4.566893e+07</td>\n",
       "    </tr>\n",
       "    <tr>\n",
       "      <th>75%</th>\n",
       "      <td>127.335000</td>\n",
       "      <td>128.100000</td>\n",
       "      <td>126.290000</td>\n",
       "      <td>127.120000</td>\n",
       "      <td>6.870872e+07</td>\n",
       "    </tr>\n",
       "    <tr>\n",
       "      <th>max</th>\n",
       "      <td>179.370000</td>\n",
       "      <td>180.100000</td>\n",
       "      <td>178.250000</td>\n",
       "      <td>179.260000</td>\n",
       "      <td>2.668336e+08</td>\n",
       "    </tr>\n",
       "  </tbody>\n",
       "</table>\n",
       "</div>"
      ],
      "text/plain": [
       "              open         high          low        close        volume\n",
       "count  1259.000000  1259.000000  1259.000000  1259.000000  1.259000e+03\n",
       "mean    109.055429   109.951118   108.141589   109.066698  5.404790e+07\n",
       "std      30.549220    30.686186    30.376224    30.556812  3.346835e+07\n",
       "min      55.424200    57.085700    55.014200    55.789900  1.147592e+07\n",
       "25%      84.647800    85.334950    84.250650    84.830650  2.969438e+07\n",
       "50%     108.970000   110.030000   108.050000   109.010000  4.566893e+07\n",
       "75%     127.335000   128.100000   126.290000   127.120000  6.870872e+07\n",
       "max     179.370000   180.100000   178.250000   179.260000  2.668336e+08"
      ]
     },
     "execution_count": 11,
     "metadata": {},
     "output_type": "execute_result"
    }
   ],
   "source": [
    "df.describe()"
   ]
  },
  {
   "cell_type": "code",
   "execution_count": 14,
   "id": "70468443",
   "metadata": {},
   "outputs": [],
   "source": [
    "df = df[['close']]"
   ]
  },
  {
   "cell_type": "code",
   "execution_count": 16,
   "id": "f0af7172",
   "metadata": {},
   "outputs": [
    {
     "data": {
      "text/html": [
       "<div>\n",
       "<style scoped>\n",
       "    .dataframe tbody tr th:only-of-type {\n",
       "        vertical-align: middle;\n",
       "    }\n",
       "\n",
       "    .dataframe tbody tr th {\n",
       "        vertical-align: top;\n",
       "    }\n",
       "\n",
       "    .dataframe thead th {\n",
       "        text-align: right;\n",
       "    }\n",
       "</style>\n",
       "<table border=\"1\" class=\"dataframe\">\n",
       "  <thead>\n",
       "    <tr style=\"text-align: right;\">\n",
       "      <th></th>\n",
       "      <th>close</th>\n",
       "    </tr>\n",
       "    <tr>\n",
       "      <th>date</th>\n",
       "      <th></th>\n",
       "    </tr>\n",
       "  </thead>\n",
       "  <tbody>\n",
       "    <tr>\n",
       "      <th>2013-02-08</th>\n",
       "      <td>67.8542</td>\n",
       "    </tr>\n",
       "    <tr>\n",
       "      <th>2013-02-11</th>\n",
       "      <td>68.5614</td>\n",
       "    </tr>\n",
       "    <tr>\n",
       "      <th>2013-02-12</th>\n",
       "      <td>66.8428</td>\n",
       "    </tr>\n",
       "    <tr>\n",
       "      <th>2013-02-13</th>\n",
       "      <td>66.7156</td>\n",
       "    </tr>\n",
       "    <tr>\n",
       "      <th>2013-02-14</th>\n",
       "      <td>66.6556</td>\n",
       "    </tr>\n",
       "  </tbody>\n",
       "</table>\n",
       "</div>"
      ],
      "text/plain": [
       "              close\n",
       "date               \n",
       "2013-02-08  67.8542\n",
       "2013-02-11  68.5614\n",
       "2013-02-12  66.8428\n",
       "2013-02-13  66.7156\n",
       "2013-02-14  66.6556"
      ]
     },
     "execution_count": 16,
     "metadata": {},
     "output_type": "execute_result"
    }
   ],
   "source": [
    "df.head()"
   ]
  },
  {
   "cell_type": "code",
   "execution_count": 27,
   "id": "937350be",
   "metadata": {},
   "outputs": [],
   "source": [
    "def lagit(df, lags):\n",
    "    names = list()\n",
    "    for i in range(1,lags+1):\n",
    "        df['lag_'+str(i)] = df['close'].shift(i)\n",
    "        names.append('lag_'+str(i))\n",
    "    df.dropna(inplace=True)    \n",
    "    return names"
   ]
  },
  {
   "cell_type": "code",
   "execution_count": 28,
   "id": "0bdf0a8b",
   "metadata": {},
   "outputs": [],
   "source": [
    "lagnames = lagit(df,5)"
   ]
  },
  {
   "cell_type": "code",
   "execution_count": 29,
   "id": "461116a4",
   "metadata": {},
   "outputs": [
    {
     "data": {
      "text/plain": [
       "['lag_1', 'lag_2', 'lag_3', 'lag_4', 'lag_5']"
      ]
     },
     "execution_count": 29,
     "metadata": {},
     "output_type": "execute_result"
    }
   ],
   "source": [
    "lagnames"
   ]
  },
  {
   "cell_type": "code",
   "execution_count": 30,
   "id": "47684391",
   "metadata": {},
   "outputs": [
    {
     "data": {
      "text/html": [
       "<div>\n",
       "<style scoped>\n",
       "    .dataframe tbody tr th:only-of-type {\n",
       "        vertical-align: middle;\n",
       "    }\n",
       "\n",
       "    .dataframe tbody tr th {\n",
       "        vertical-align: top;\n",
       "    }\n",
       "\n",
       "    .dataframe thead th {\n",
       "        text-align: right;\n",
       "    }\n",
       "</style>\n",
       "<table border=\"1\" class=\"dataframe\">\n",
       "  <thead>\n",
       "    <tr style=\"text-align: right;\">\n",
       "      <th></th>\n",
       "      <th>close</th>\n",
       "      <th>lag_1</th>\n",
       "      <th>lag_2</th>\n",
       "      <th>lag_3</th>\n",
       "      <th>lag_4</th>\n",
       "      <th>lag_5</th>\n",
       "    </tr>\n",
       "    <tr>\n",
       "      <th>date</th>\n",
       "      <th></th>\n",
       "      <th></th>\n",
       "      <th></th>\n",
       "      <th></th>\n",
       "      <th></th>\n",
       "      <th></th>\n",
       "    </tr>\n",
       "  </thead>\n",
       "  <tbody>\n",
       "    <tr>\n",
       "      <th>2013-02-15</th>\n",
       "      <td>65.7371</td>\n",
       "      <td>66.6556</td>\n",
       "      <td>66.7156</td>\n",
       "      <td>66.8428</td>\n",
       "      <td>68.5614</td>\n",
       "      <td>67.8542</td>\n",
       "    </tr>\n",
       "    <tr>\n",
       "      <th>2013-02-19</th>\n",
       "      <td>65.7128</td>\n",
       "      <td>65.7371</td>\n",
       "      <td>66.6556</td>\n",
       "      <td>66.7156</td>\n",
       "      <td>66.8428</td>\n",
       "      <td>68.5614</td>\n",
       "    </tr>\n",
       "    <tr>\n",
       "      <th>2013-02-20</th>\n",
       "      <td>64.1214</td>\n",
       "      <td>65.7128</td>\n",
       "      <td>65.7371</td>\n",
       "      <td>66.6556</td>\n",
       "      <td>66.7156</td>\n",
       "      <td>66.8428</td>\n",
       "    </tr>\n",
       "    <tr>\n",
       "      <th>2013-02-21</th>\n",
       "      <td>63.7228</td>\n",
       "      <td>64.1214</td>\n",
       "      <td>65.7128</td>\n",
       "      <td>65.7371</td>\n",
       "      <td>66.6556</td>\n",
       "      <td>66.7156</td>\n",
       "    </tr>\n",
       "    <tr>\n",
       "      <th>2013-02-22</th>\n",
       "      <td>64.4014</td>\n",
       "      <td>63.7228</td>\n",
       "      <td>64.1214</td>\n",
       "      <td>65.7128</td>\n",
       "      <td>65.7371</td>\n",
       "      <td>66.6556</td>\n",
       "    </tr>\n",
       "  </tbody>\n",
       "</table>\n",
       "</div>"
      ],
      "text/plain": [
       "              close    lag_1    lag_2    lag_3    lag_4    lag_5\n",
       "date                                                            \n",
       "2013-02-15  65.7371  66.6556  66.7156  66.8428  68.5614  67.8542\n",
       "2013-02-19  65.7128  65.7371  66.6556  66.7156  66.8428  68.5614\n",
       "2013-02-20  64.1214  65.7128  65.7371  66.6556  66.7156  66.8428\n",
       "2013-02-21  63.7228  64.1214  65.7128  65.7371  66.6556  66.7156\n",
       "2013-02-22  64.4014  63.7228  64.1214  65.7128  65.7371  66.6556"
      ]
     },
     "execution_count": 30,
     "metadata": {},
     "output_type": "execute_result"
    }
   ],
   "source": [
    "df.head()"
   ]
  },
  {
   "cell_type": "code",
   "execution_count": 37,
   "id": "f5a7b8e7",
   "metadata": {},
   "outputs": [],
   "source": [
    "from sklearn.linear_model import LinearRegression\n",
    "from sklearn.model_selection import train_test_split"
   ]
  },
  {
   "cell_type": "code",
   "execution_count": 32,
   "id": "400fa055",
   "metadata": {},
   "outputs": [],
   "source": [
    "X = np.array(df[lagnames])"
   ]
  },
  {
   "cell_type": "code",
   "execution_count": 35,
   "id": "9998baa2",
   "metadata": {},
   "outputs": [],
   "source": [
    "Y = np.array(df['close'])"
   ]
  },
  {
   "cell_type": "code",
   "execution_count": 40,
   "id": "114694ed",
   "metadata": {},
   "outputs": [],
   "source": [
    "#Preprocessing Data\n",
    "x_train,x_test,y_train,y_test = train_test_split(X,Y, test_size=0.2, shuffle=False)"
   ]
  },
  {
   "cell_type": "code",
   "execution_count": 52,
   "id": "7dc7dd06",
   "metadata": {},
   "outputs": [
    {
     "name": "stdout",
     "output_type": "stream",
     "text": [
      "1003\n",
      "251\n"
     ]
    }
   ],
   "source": [
    "print(len(x_train))\n",
    "print(len(x_test))"
   ]
  },
  {
   "cell_type": "code",
   "execution_count": 41,
   "id": "03350b38",
   "metadata": {},
   "outputs": [],
   "source": [
    "#Model creation and training\n",
    "lr = LinearRegression().fit(x_train,y_train)"
   ]
  },
  {
   "cell_type": "code",
   "execution_count": 46,
   "id": "0138527a",
   "metadata": {},
   "outputs": [
    {
     "name": "stdout",
     "output_type": "stream",
     "text": [
      "(251,)\n"
     ]
    }
   ],
   "source": [
    "pred = lr.predict(x_test)\n",
    "print(pred.shape)"
   ]
  },
  {
   "cell_type": "code",
   "execution_count": 48,
   "id": "731a98a1",
   "metadata": {},
   "outputs": [
    {
     "data": {
      "text/plain": [
       "(251,)"
      ]
     },
     "execution_count": 48,
     "metadata": {},
     "output_type": "execute_result"
    }
   ],
   "source": [
    "y_test.shape"
   ]
  },
  {
   "cell_type": "code",
   "execution_count": 49,
   "id": "500c9091",
   "metadata": {},
   "outputs": [
    {
     "data": {
      "text/plain": [
       "numpy.ndarray"
      ]
     },
     "execution_count": 49,
     "metadata": {},
     "output_type": "execute_result"
    }
   ],
   "source": [
    "type(pred)"
   ]
  },
  {
   "cell_type": "code",
   "execution_count": 64,
   "id": "1a7552ef",
   "metadata": {},
   "outputs": [],
   "source": [
    "eval_df = pd.DataFrame(df['close'][-251:])\n",
    "eval_df = eval_df.reset_index()"
   ]
  },
  {
   "cell_type": "code",
   "execution_count": 68,
   "id": "af7e8895",
   "metadata": {},
   "outputs": [],
   "source": [
    "pred_df = pd.Series(pred).to_frame(name='Predictions')\n",
    "pred_df = pred_df.reset_index(drop=True)"
   ]
  },
  {
   "cell_type": "code",
   "execution_count": 70,
   "id": "9a1e5b1c",
   "metadata": {},
   "outputs": [],
   "source": [
    "eval_df = pd.concat([eval_df,pred_df],axis=1)\n",
    "eval_df = eval_df.set_index('date', drop=True)"
   ]
  },
  {
   "cell_type": "code",
   "execution_count": 71,
   "id": "04f9b5b8",
   "metadata": {},
   "outputs": [
    {
     "data": {
      "text/html": [
       "<div>\n",
       "<style scoped>\n",
       "    .dataframe tbody tr th:only-of-type {\n",
       "        vertical-align: middle;\n",
       "    }\n",
       "\n",
       "    .dataframe tbody tr th {\n",
       "        vertical-align: top;\n",
       "    }\n",
       "\n",
       "    .dataframe thead th {\n",
       "        text-align: right;\n",
       "    }\n",
       "</style>\n",
       "<table border=\"1\" class=\"dataframe\">\n",
       "  <thead>\n",
       "    <tr style=\"text-align: right;\">\n",
       "      <th></th>\n",
       "      <th>close</th>\n",
       "      <th>Predictions</th>\n",
       "    </tr>\n",
       "    <tr>\n",
       "      <th>date</th>\n",
       "      <th></th>\n",
       "      <th></th>\n",
       "    </tr>\n",
       "  </thead>\n",
       "  <tbody>\n",
       "    <tr>\n",
       "      <th>2017-02-09</th>\n",
       "      <td>132.42</td>\n",
       "      <td>132.007076</td>\n",
       "    </tr>\n",
       "    <tr>\n",
       "      <th>2017-02-10</th>\n",
       "      <td>132.12</td>\n",
       "      <td>132.376849</td>\n",
       "    </tr>\n",
       "    <tr>\n",
       "      <th>2017-02-13</th>\n",
       "      <td>133.29</td>\n",
       "      <td>132.066752</td>\n",
       "    </tr>\n",
       "    <tr>\n",
       "      <th>2017-02-14</th>\n",
       "      <td>135.02</td>\n",
       "      <td>133.296468</td>\n",
       "    </tr>\n",
       "    <tr>\n",
       "      <th>2017-02-15</th>\n",
       "      <td>135.51</td>\n",
       "      <td>135.024881</td>\n",
       "    </tr>\n",
       "    <tr>\n",
       "      <th>...</th>\n",
       "      <td>...</td>\n",
       "      <td>...</td>\n",
       "    </tr>\n",
       "    <tr>\n",
       "      <th>2018-02-01</th>\n",
       "      <td>167.78</td>\n",
       "      <td>167.382249</td>\n",
       "    </tr>\n",
       "    <tr>\n",
       "      <th>2018-02-02</th>\n",
       "      <td>160.50</td>\n",
       "      <td>167.785872</td>\n",
       "    </tr>\n",
       "    <tr>\n",
       "      <th>2018-02-05</th>\n",
       "      <td>156.49</td>\n",
       "      <td>160.268940</td>\n",
       "    </tr>\n",
       "    <tr>\n",
       "      <th>2018-02-06</th>\n",
       "      <td>163.03</td>\n",
       "      <td>156.411625</td>\n",
       "    </tr>\n",
       "    <tr>\n",
       "      <th>2018-02-07</th>\n",
       "      <td>159.54</td>\n",
       "      <td>163.203331</td>\n",
       "    </tr>\n",
       "  </tbody>\n",
       "</table>\n",
       "<p>251 rows × 2 columns</p>\n",
       "</div>"
      ],
      "text/plain": [
       "             close  Predictions\n",
       "date                           \n",
       "2017-02-09  132.42   132.007076\n",
       "2017-02-10  132.12   132.376849\n",
       "2017-02-13  133.29   132.066752\n",
       "2017-02-14  135.02   133.296468\n",
       "2017-02-15  135.51   135.024881\n",
       "...            ...          ...\n",
       "2018-02-01  167.78   167.382249\n",
       "2018-02-02  160.50   167.785872\n",
       "2018-02-05  156.49   160.268940\n",
       "2018-02-06  163.03   156.411625\n",
       "2018-02-07  159.54   163.203331\n",
       "\n",
       "[251 rows x 2 columns]"
      ]
     },
     "execution_count": 71,
     "metadata": {},
     "output_type": "execute_result"
    }
   ],
   "source": [
    "eval_df"
   ]
  },
  {
   "cell_type": "code",
   "execution_count": 51,
   "id": "58e3f22d",
   "metadata": {},
   "outputs": [],
   "source": [
    "import matplotlib.pyplot as plt"
   ]
  },
  {
   "cell_type": "code",
   "execution_count": 73,
   "id": "10e47648",
   "metadata": {},
   "outputs": [
    {
     "data": {
      "image/png": "[encoded data removed]",
      "text/plain": [
       "<Figure size 1296x1080 with 2 Axes>"
      ]
     },
     "metadata": {
      "needs_background": "light"
     },
     "output_type": "display_data"
    }
   ],
   "source": [
    "fig, (axis1, axis2) = plt.subplots(2, 1, figsize=(18,15))\n",
    "\n",
    "axis1.plot(df['close'][:-252], color = 'blue', label = 'Train')\n",
    "axis1.plot(df['close'][-251:], color = 'green', label = 'Test')\n",
    "axis1.plot(eval_df['Predictions'], color = 'orange', label = 'Predicted', linestyle = '--')\n",
    "axis1.set_xlabel('Dates')\n",
    "axis1.set_ylabel('Stock Prices')\n",
    "axis1.set_title('Stock Price prediction')\n",
    "axis1.legend()\n",
    "\n",
    "axis2.plot(eval_df['close'], color = 'green', label = 'Actual')\n",
    "axis2.plot(eval_df['Predictions'], color = 'orange', label = 'Predicted', linestyle = '--')\n",
    "axis2.set_xlabel('Dates')\n",
    "axis2.set_ylabel('Stock Prices')\n",
    "axis2.set_title('Stock Price prediction')\n",
    "axis2.legend()\n",
    "\n",
    "plt.show()\n"
   ]
  },
  {
   "cell_type": "code",
   "execution_count": 74,
   "id": "7fc9a4d0",
   "metadata": {},
   "outputs": [
    {
     "name": "stdout",
     "output_type": "stream",
     "text": [
      "1.8895731120065877\n"
     ]
    }
   ],
   "source": [
    "from sklearn.metrics import mean_squared_error\n",
    "from math import sqrt\n",
    "root_mse = sqrt(mean_squared_error(eval_df['close'],eval_df['Predictions']))\n",
    "print(root_mse)"
   ]
  },
  {
   "cell_type": "raw",
   "id": "0bba8aa3",
   "metadata": {},
   "source": [
    "The error is comparitively very low which indicates that the model is good."
   ]
  }
 ],
 "metadata": {
  "kernelspec": {
   "display_name": "Python 3 (ipykernel)",
   "language": "python",
   "name": "python3"
  },
  "language_info": {
   "codemirror_mode": {
    "name": "ipython",
    "version": 3
   },
   "file_extension": ".py",
   "mimetype": "text/x-python",
   "name": "python",
   "nbconvert_exporter": "python",
   "pygments_lexer": "ipython3",
   "version": "3.9.12"
  }
 },
 "nbformat": 4,
 "nbformat_minor": 5
}
