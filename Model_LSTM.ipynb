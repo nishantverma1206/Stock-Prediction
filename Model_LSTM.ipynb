{
 "cells": [
  {
   "cell_type": "code",
   "execution_count": 1,
   "id": "b2bc7649",
   "metadata": {},
   "outputs": [],
   "source": [
    "import pandas as pd\n",
    "import numpy as np\n",
    "import matplotlib.pyplot as plt"
   ]
  },
  {
   "cell_type": "code",
   "execution_count": 2,
   "id": "79460091",
   "metadata": {},
   "outputs": [],
   "source": [
    "df = pd.read_csv('all_stocks_5yr.csv',parse_dates=True, index_col='date')"
   ]
  },
  {
   "cell_type": "code",
   "execution_count": 3,
   "id": "c52a7107",
   "metadata": {},
   "outputs": [
    {
     "data": {
      "text/html": [
       "<div>\n",
       "<style scoped>\n",
       "    .dataframe tbody tr th:only-of-type {\n",
       "        vertical-align: middle;\n",
       "    }\n",
       "\n",
       "    .dataframe tbody tr th {\n",
       "        vertical-align: top;\n",
       "    }\n",
       "\n",
       "    .dataframe thead th {\n",
       "        text-align: right;\n",
       "    }\n",
       "</style>\n",
       "<table border=\"1\" class=\"dataframe\">\n",
       "  <thead>\n",
       "    <tr style=\"text-align: right;\">\n",
       "      <th></th>\n",
       "      <th>open</th>\n",
       "      <th>high</th>\n",
       "      <th>low</th>\n",
       "      <th>close</th>\n",
       "      <th>volume</th>\n",
       "      <th>Name</th>\n",
       "    </tr>\n",
       "    <tr>\n",
       "      <th>date</th>\n",
       "      <th></th>\n",
       "      <th></th>\n",
       "      <th></th>\n",
       "      <th></th>\n",
       "      <th></th>\n",
       "      <th></th>\n",
       "    </tr>\n",
       "  </thead>\n",
       "  <tbody>\n",
       "    <tr>\n",
       "      <th>2013-02-08</th>\n",
       "      <td>15.07</td>\n",
       "      <td>15.12</td>\n",
       "      <td>14.63</td>\n",
       "      <td>14.75</td>\n",
       "      <td>8407500</td>\n",
       "      <td>AAL</td>\n",
       "    </tr>\n",
       "    <tr>\n",
       "      <th>2013-02-11</th>\n",
       "      <td>14.89</td>\n",
       "      <td>15.01</td>\n",
       "      <td>14.26</td>\n",
       "      <td>14.46</td>\n",
       "      <td>8882000</td>\n",
       "      <td>AAL</td>\n",
       "    </tr>\n",
       "    <tr>\n",
       "      <th>2013-02-12</th>\n",
       "      <td>14.45</td>\n",
       "      <td>14.51</td>\n",
       "      <td>14.10</td>\n",
       "      <td>14.27</td>\n",
       "      <td>8126000</td>\n",
       "      <td>AAL</td>\n",
       "    </tr>\n",
       "    <tr>\n",
       "      <th>2013-02-13</th>\n",
       "      <td>14.30</td>\n",
       "      <td>14.94</td>\n",
       "      <td>14.25</td>\n",
       "      <td>14.66</td>\n",
       "      <td>10259500</td>\n",
       "      <td>AAL</td>\n",
       "    </tr>\n",
       "    <tr>\n",
       "      <th>2013-02-14</th>\n",
       "      <td>14.94</td>\n",
       "      <td>14.96</td>\n",
       "      <td>13.16</td>\n",
       "      <td>13.99</td>\n",
       "      <td>31879900</td>\n",
       "      <td>AAL</td>\n",
       "    </tr>\n",
       "  </tbody>\n",
       "</table>\n",
       "</div>"
      ],
      "text/plain": [
       "             open   high    low  close    volume Name\n",
       "date                                                 \n",
       "2013-02-08  15.07  15.12  14.63  14.75   8407500  AAL\n",
       "2013-02-11  14.89  15.01  14.26  14.46   8882000  AAL\n",
       "2013-02-12  14.45  14.51  14.10  14.27   8126000  AAL\n",
       "2013-02-13  14.30  14.94  14.25  14.66  10259500  AAL\n",
       "2013-02-14  14.94  14.96  13.16  13.99  31879900  AAL"
      ]
     },
     "execution_count": 3,
     "metadata": {},
     "output_type": "execute_result"
    }
   ],
   "source": [
    "df.head()"
   ]
  },
  {
   "cell_type": "code",
   "execution_count": 4,
   "id": "45a578c5",
   "metadata": {},
   "outputs": [
    {
     "data": {
      "text/plain": [
       "pandas.core.indexes.datetimes.DatetimeIndex"
      ]
     },
     "execution_count": 4,
     "metadata": {},
     "output_type": "execute_result"
    }
   ],
   "source": [
    "type(df.index)"
   ]
  },
  {
   "cell_type": "code",
   "execution_count": 5,
   "id": "8c2be8e7",
   "metadata": {},
   "outputs": [],
   "source": [
    "df = df[df['Name']=='AAPL']"
   ]
  },
  {
   "cell_type": "code",
   "execution_count": 6,
   "id": "639f059c",
   "metadata": {},
   "outputs": [
    {
     "data": {
      "text/html": [
       "<div>\n",
       "<style scoped>\n",
       "    .dataframe tbody tr th:only-of-type {\n",
       "        vertical-align: middle;\n",
       "    }\n",
       "\n",
       "    .dataframe tbody tr th {\n",
       "        vertical-align: top;\n",
       "    }\n",
       "\n",
       "    .dataframe thead th {\n",
       "        text-align: right;\n",
       "    }\n",
       "</style>\n",
       "<table border=\"1\" class=\"dataframe\">\n",
       "  <thead>\n",
       "    <tr style=\"text-align: right;\">\n",
       "      <th></th>\n",
       "      <th>open</th>\n",
       "      <th>high</th>\n",
       "      <th>low</th>\n",
       "      <th>close</th>\n",
       "      <th>volume</th>\n",
       "      <th>Name</th>\n",
       "    </tr>\n",
       "    <tr>\n",
       "      <th>date</th>\n",
       "      <th></th>\n",
       "      <th></th>\n",
       "      <th></th>\n",
       "      <th></th>\n",
       "      <th></th>\n",
       "      <th></th>\n",
       "    </tr>\n",
       "  </thead>\n",
       "  <tbody>\n",
       "    <tr>\n",
       "      <th>2013-02-08</th>\n",
       "      <td>67.7142</td>\n",
       "      <td>68.4014</td>\n",
       "      <td>66.8928</td>\n",
       "      <td>67.8542</td>\n",
       "      <td>158168416</td>\n",
       "      <td>AAPL</td>\n",
       "    </tr>\n",
       "    <tr>\n",
       "      <th>2013-02-11</th>\n",
       "      <td>68.0714</td>\n",
       "      <td>69.2771</td>\n",
       "      <td>67.6071</td>\n",
       "      <td>68.5614</td>\n",
       "      <td>129029425</td>\n",
       "      <td>AAPL</td>\n",
       "    </tr>\n",
       "    <tr>\n",
       "      <th>2013-02-12</th>\n",
       "      <td>68.5014</td>\n",
       "      <td>68.9114</td>\n",
       "      <td>66.8205</td>\n",
       "      <td>66.8428</td>\n",
       "      <td>151829363</td>\n",
       "      <td>AAPL</td>\n",
       "    </tr>\n",
       "    <tr>\n",
       "      <th>2013-02-13</th>\n",
       "      <td>66.7442</td>\n",
       "      <td>67.6628</td>\n",
       "      <td>66.1742</td>\n",
       "      <td>66.7156</td>\n",
       "      <td>118721995</td>\n",
       "      <td>AAPL</td>\n",
       "    </tr>\n",
       "    <tr>\n",
       "      <th>2013-02-14</th>\n",
       "      <td>66.3599</td>\n",
       "      <td>67.3771</td>\n",
       "      <td>66.2885</td>\n",
       "      <td>66.6556</td>\n",
       "      <td>88809154</td>\n",
       "      <td>AAPL</td>\n",
       "    </tr>\n",
       "  </tbody>\n",
       "</table>\n",
       "</div>"
      ],
      "text/plain": [
       "               open     high      low    close     volume  Name\n",
       "date                                                           \n",
       "2013-02-08  67.7142  68.4014  66.8928  67.8542  158168416  AAPL\n",
       "2013-02-11  68.0714  69.2771  67.6071  68.5614  129029425  AAPL\n",
       "2013-02-12  68.5014  68.9114  66.8205  66.8428  151829363  AAPL\n",
       "2013-02-13  66.7442  67.6628  66.1742  66.7156  118721995  AAPL\n",
       "2013-02-14  66.3599  67.3771  66.2885  66.6556   88809154  AAPL"
      ]
     },
     "execution_count": 6,
     "metadata": {},
     "output_type": "execute_result"
    }
   ],
   "source": [
    "df.head()"
   ]
  },
  {
   "cell_type": "code",
   "execution_count": 7,
   "id": "c15de024",
   "metadata": {},
   "outputs": [
    {
     "name": "stdout",
     "output_type": "stream",
     "text": [
      "<class 'pandas.core.frame.DataFrame'>\n",
      "DatetimeIndex: 1259 entries, 2013-02-08 to 2018-02-07\n",
      "Data columns (total 6 columns):\n",
      " #   Column  Non-Null Count  Dtype  \n",
      "---  ------  --------------  -----  \n",
      " 0   open    1259 non-null   float64\n",
      " 1   high    1259 non-null   float64\n",
      " 2   low     1259 non-null   float64\n",
      " 3   close   1259 non-null   float64\n",
      " 4   volume  1259 non-null   int64  \n",
      " 5   Name    1259 non-null   object \n",
      "dtypes: float64(4), int64(1), object(1)\n",
      "memory usage: 68.9+ KB\n"
     ]
    }
   ],
   "source": [
    "df.info()"
   ]
  },
  {
   "cell_type": "code",
   "execution_count": 9,
   "id": "b096ae1a",
   "metadata": {},
   "outputs": [],
   "source": [
    "df = df[['close']]"
   ]
  },
  {
   "cell_type": "code",
   "execution_count": 10,
   "id": "d36c0bf3",
   "metadata": {},
   "outputs": [
    {
     "data": {
      "text/html": [
       "<div>\n",
       "<style scoped>\n",
       "    .dataframe tbody tr th:only-of-type {\n",
       "        vertical-align: middle;\n",
       "    }\n",
       "\n",
       "    .dataframe tbody tr th {\n",
       "        vertical-align: top;\n",
       "    }\n",
       "\n",
       "    .dataframe thead th {\n",
       "        text-align: right;\n",
       "    }\n",
       "</style>\n",
       "<table border=\"1\" class=\"dataframe\">\n",
       "  <thead>\n",
       "    <tr style=\"text-align: right;\">\n",
       "      <th></th>\n",
       "      <th>close</th>\n",
       "    </tr>\n",
       "  </thead>\n",
       "  <tbody>\n",
       "    <tr>\n",
       "      <th>count</th>\n",
       "      <td>1259.000000</td>\n",
       "    </tr>\n",
       "    <tr>\n",
       "      <th>mean</th>\n",
       "      <td>109.066698</td>\n",
       "    </tr>\n",
       "    <tr>\n",
       "      <th>std</th>\n",
       "      <td>30.556812</td>\n",
       "    </tr>\n",
       "    <tr>\n",
       "      <th>min</th>\n",
       "      <td>55.789900</td>\n",
       "    </tr>\n",
       "    <tr>\n",
       "      <th>25%</th>\n",
       "      <td>84.830650</td>\n",
       "    </tr>\n",
       "    <tr>\n",
       "      <th>50%</th>\n",
       "      <td>109.010000</td>\n",
       "    </tr>\n",
       "    <tr>\n",
       "      <th>75%</th>\n",
       "      <td>127.120000</td>\n",
       "    </tr>\n",
       "    <tr>\n",
       "      <th>max</th>\n",
       "      <td>179.260000</td>\n",
       "    </tr>\n",
       "  </tbody>\n",
       "</table>\n",
       "</div>"
      ],
      "text/plain": [
       "             close\n",
       "count  1259.000000\n",
       "mean    109.066698\n",
       "std      30.556812\n",
       "min      55.789900\n",
       "25%      84.830650\n",
       "50%     109.010000\n",
       "75%     127.120000\n",
       "max     179.260000"
      ]
     },
     "execution_count": 10,
     "metadata": {},
     "output_type": "execute_result"
    }
   ],
   "source": [
    "df.describe()"
   ]
  },
  {
   "cell_type": "raw",
   "id": "6acfc1c2",
   "metadata": {},
   "source": [
    "Calculate Percent change\n",
    "\n",
    "The reason for using the percent change instead of the actual prices is the benefit of normalization as we can measure all the variables in a comparable metric. Apart from that, returns have more statistical properties than actual prices like stationarity, as in most of the cases the prices cannot be stationary but we can have stationary returns.\n",
    "\n",
    "A stationary time series is one where statistical properties such as mean, variance, standard deviation, correlation remains constant over time."
   ]
  },
  {
   "cell_type": "code",
   "execution_count": 11,
   "id": "ee354380",
   "metadata": {},
   "outputs": [],
   "source": [
    "df['returns'] = df.close.pct_change()"
   ]
  },
  {
   "cell_type": "code",
   "execution_count": 12,
   "id": "80fbe679",
   "metadata": {},
   "outputs": [
    {
     "data": {
      "text/html": [
       "<div>\n",
       "<style scoped>\n",
       "    .dataframe tbody tr th:only-of-type {\n",
       "        vertical-align: middle;\n",
       "    }\n",
       "\n",
       "    .dataframe tbody tr th {\n",
       "        vertical-align: top;\n",
       "    }\n",
       "\n",
       "    .dataframe thead th {\n",
       "        text-align: right;\n",
       "    }\n",
       "</style>\n",
       "<table border=\"1\" class=\"dataframe\">\n",
       "  <thead>\n",
       "    <tr style=\"text-align: right;\">\n",
       "      <th></th>\n",
       "      <th>close</th>\n",
       "      <th>returns</th>\n",
       "    </tr>\n",
       "    <tr>\n",
       "      <th>date</th>\n",
       "      <th></th>\n",
       "      <th></th>\n",
       "    </tr>\n",
       "  </thead>\n",
       "  <tbody>\n",
       "    <tr>\n",
       "      <th>2013-02-08</th>\n",
       "      <td>67.8542</td>\n",
       "      <td>NaN</td>\n",
       "    </tr>\n",
       "    <tr>\n",
       "      <th>2013-02-11</th>\n",
       "      <td>68.5614</td>\n",
       "      <td>0.010422</td>\n",
       "    </tr>\n",
       "    <tr>\n",
       "      <th>2013-02-12</th>\n",
       "      <td>66.8428</td>\n",
       "      <td>-0.025067</td>\n",
       "    </tr>\n",
       "    <tr>\n",
       "      <th>2013-02-13</th>\n",
       "      <td>66.7156</td>\n",
       "      <td>-0.001903</td>\n",
       "    </tr>\n",
       "    <tr>\n",
       "      <th>2013-02-14</th>\n",
       "      <td>66.6556</td>\n",
       "      <td>-0.000899</td>\n",
       "    </tr>\n",
       "  </tbody>\n",
       "</table>\n",
       "</div>"
      ],
      "text/plain": [
       "              close   returns\n",
       "date                         \n",
       "2013-02-08  67.8542       NaN\n",
       "2013-02-11  68.5614  0.010422\n",
       "2013-02-12  66.8428 -0.025067\n",
       "2013-02-13  66.7156 -0.001903\n",
       "2013-02-14  66.6556 -0.000899"
      ]
     },
     "execution_count": 12,
     "metadata": {},
     "output_type": "execute_result"
    }
   ],
   "source": [
    "df.head()"
   ]
  },
  {
   "cell_type": "code",
   "execution_count": 13,
   "id": "0354942e",
   "metadata": {},
   "outputs": [],
   "source": [
    "df['log_returns'] = np.log(1 + df['returns'])"
   ]
  },
  {
   "cell_type": "code",
   "execution_count": 14,
   "id": "bc784eab",
   "metadata": {},
   "outputs": [
    {
     "data": {
      "text/html": [
       "<div>\n",
       "<style scoped>\n",
       "    .dataframe tbody tr th:only-of-type {\n",
       "        vertical-align: middle;\n",
       "    }\n",
       "\n",
       "    .dataframe tbody tr th {\n",
       "        vertical-align: top;\n",
       "    }\n",
       "\n",
       "    .dataframe thead th {\n",
       "        text-align: right;\n",
       "    }\n",
       "</style>\n",
       "<table border=\"1\" class=\"dataframe\">\n",
       "  <thead>\n",
       "    <tr style=\"text-align: right;\">\n",
       "      <th></th>\n",
       "      <th>close</th>\n",
       "      <th>returns</th>\n",
       "      <th>log_returns</th>\n",
       "    </tr>\n",
       "    <tr>\n",
       "      <th>date</th>\n",
       "      <th></th>\n",
       "      <th></th>\n",
       "      <th></th>\n",
       "    </tr>\n",
       "  </thead>\n",
       "  <tbody>\n",
       "    <tr>\n",
       "      <th>2013-02-08</th>\n",
       "      <td>67.8542</td>\n",
       "      <td>NaN</td>\n",
       "      <td>NaN</td>\n",
       "    </tr>\n",
       "    <tr>\n",
       "      <th>2013-02-11</th>\n",
       "      <td>68.5614</td>\n",
       "      <td>0.010422</td>\n",
       "      <td>0.010368</td>\n",
       "    </tr>\n",
       "    <tr>\n",
       "      <th>2013-02-12</th>\n",
       "      <td>66.8428</td>\n",
       "      <td>-0.025067</td>\n",
       "      <td>-0.025386</td>\n",
       "    </tr>\n",
       "    <tr>\n",
       "      <th>2013-02-13</th>\n",
       "      <td>66.7156</td>\n",
       "      <td>-0.001903</td>\n",
       "      <td>-0.001905</td>\n",
       "    </tr>\n",
       "    <tr>\n",
       "      <th>2013-02-14</th>\n",
       "      <td>66.6556</td>\n",
       "      <td>-0.000899</td>\n",
       "      <td>-0.000900</td>\n",
       "    </tr>\n",
       "  </tbody>\n",
       "</table>\n",
       "</div>"
      ],
      "text/plain": [
       "              close   returns  log_returns\n",
       "date                                      \n",
       "2013-02-08  67.8542       NaN          NaN\n",
       "2013-02-11  68.5614  0.010422     0.010368\n",
       "2013-02-12  66.8428 -0.025067    -0.025386\n",
       "2013-02-13  66.7156 -0.001903    -0.001905\n",
       "2013-02-14  66.6556 -0.000899    -0.000900"
      ]
     },
     "execution_count": 14,
     "metadata": {},
     "output_type": "execute_result"
    }
   ],
   "source": [
    "df.head()"
   ]
  },
  {
   "cell_type": "code",
   "execution_count": 21,
   "id": "23995ee4",
   "metadata": {},
   "outputs": [
    {
     "data": {
      "image/png": "[encoded data removed]",
      "text/plain": [
       "<Figure size 1152x288 with 1 Axes>"
      ]
     },
     "metadata": {
      "needs_background": "light"
     },
     "output_type": "display_data"
    }
   ],
   "source": [
    "plt.figure(figsize = (16,4))\n",
    "plt.plot(df.log_returns)\n",
    "plt.title('Log Returns of Closing Prices')\n",
    "plt.xlabel('Dates')\n",
    "plt.ylabel('Log Returns')\n",
    "plt.show()"
   ]
  },
  {
   "cell_type": "raw",
   "id": "759fe507",
   "metadata": {},
   "source": [
    "Our mean is constant throughout the time here."
   ]
  },
  {
   "cell_type": "code",
   "execution_count": 22,
   "id": "1befa8cc",
   "metadata": {},
   "outputs": [],
   "source": [
    "df.dropna(inplace = True)"
   ]
  },
  {
   "cell_type": "code",
   "execution_count": 23,
   "id": "ce217acf",
   "metadata": {},
   "outputs": [
    {
     "data": {
      "text/html": [
       "<div>\n",
       "<style scoped>\n",
       "    .dataframe tbody tr th:only-of-type {\n",
       "        vertical-align: middle;\n",
       "    }\n",
       "\n",
       "    .dataframe tbody tr th {\n",
       "        vertical-align: top;\n",
       "    }\n",
       "\n",
       "    .dataframe thead th {\n",
       "        text-align: right;\n",
       "    }\n",
       "</style>\n",
       "<table border=\"1\" class=\"dataframe\">\n",
       "  <thead>\n",
       "    <tr style=\"text-align: right;\">\n",
       "      <th></th>\n",
       "      <th>close</th>\n",
       "      <th>returns</th>\n",
       "      <th>log_returns</th>\n",
       "    </tr>\n",
       "    <tr>\n",
       "      <th>date</th>\n",
       "      <th></th>\n",
       "      <th></th>\n",
       "      <th></th>\n",
       "    </tr>\n",
       "  </thead>\n",
       "  <tbody>\n",
       "    <tr>\n",
       "      <th>2013-02-11</th>\n",
       "      <td>68.5614</td>\n",
       "      <td>0.010422</td>\n",
       "      <td>0.010368</td>\n",
       "    </tr>\n",
       "    <tr>\n",
       "      <th>2013-02-12</th>\n",
       "      <td>66.8428</td>\n",
       "      <td>-0.025067</td>\n",
       "      <td>-0.025386</td>\n",
       "    </tr>\n",
       "    <tr>\n",
       "      <th>2013-02-13</th>\n",
       "      <td>66.7156</td>\n",
       "      <td>-0.001903</td>\n",
       "      <td>-0.001905</td>\n",
       "    </tr>\n",
       "    <tr>\n",
       "      <th>2013-02-14</th>\n",
       "      <td>66.6556</td>\n",
       "      <td>-0.000899</td>\n",
       "      <td>-0.000900</td>\n",
       "    </tr>\n",
       "    <tr>\n",
       "      <th>2013-02-15</th>\n",
       "      <td>65.7371</td>\n",
       "      <td>-0.013780</td>\n",
       "      <td>-0.013876</td>\n",
       "    </tr>\n",
       "  </tbody>\n",
       "</table>\n",
       "</div>"
      ],
      "text/plain": [
       "              close   returns  log_returns\n",
       "date                                      \n",
       "2013-02-11  68.5614  0.010422     0.010368\n",
       "2013-02-12  66.8428 -0.025067    -0.025386\n",
       "2013-02-13  66.7156 -0.001903    -0.001905\n",
       "2013-02-14  66.6556 -0.000899    -0.000900\n",
       "2013-02-15  65.7371 -0.013780    -0.013876"
      ]
     },
     "execution_count": 23,
     "metadata": {},
     "output_type": "execute_result"
    }
   ],
   "source": [
    "df.head()"
   ]
  },
  {
   "cell_type": "code",
   "execution_count": 24,
   "id": "b36e995e",
   "metadata": {},
   "outputs": [],
   "source": [
    "#Input variable\n",
    "X = df[['close','log_returns']].values"
   ]
  },
  {
   "cell_type": "code",
   "execution_count": 25,
   "id": "991010a2",
   "metadata": {},
   "outputs": [
    {
     "data": {
      "text/plain": [
       "array([[ 6.85614000e+01,  1.03684085e-02],\n",
       "       [ 6.68428000e+01, -2.53861002e-02],\n",
       "       [ 6.67156000e+01, -1.90478530e-03],\n",
       "       ...,\n",
       "       [ 1.56490000e+02, -2.53018324e-02],\n",
       "       [ 1.63030000e+02,  4.09421228e-02],\n",
       "       [ 1.59540000e+02, -2.16395585e-02]])"
      ]
     },
     "execution_count": 25,
     "metadata": {},
     "output_type": "execute_result"
    }
   ],
   "source": [
    "X"
   ]
  },
  {
   "cell_type": "code",
   "execution_count": 26,
   "id": "5f99e847",
   "metadata": {},
   "outputs": [],
   "source": [
    "from sklearn.preprocessing import MinMaxScaler"
   ]
  },
  {
   "cell_type": "code",
   "execution_count": 27,
   "id": "7ac80fa9",
   "metadata": {},
   "outputs": [],
   "source": [
    "scaler = MinMaxScaler(feature_range =(0,1)).fit(X)\n",
    "X_scaled = scaler.transform(X)"
   ]
  },
  {
   "cell_type": "code",
   "execution_count": 32,
   "id": "10a58816",
   "metadata": {},
   "outputs": [
    {
     "data": {
      "text/plain": [
       "array([[0.103438  , 0.57786997],\n",
       "       [0.08951884, 0.35729501],\n",
       "       [0.08848863, 0.50215479],\n",
       "       [0.08800268, 0.50835504],\n",
       "       [0.08056363, 0.42830496]])"
      ]
     },
     "execution_count": 32,
     "metadata": {},
     "output_type": "execute_result"
    }
   ],
   "source": [
    "X_scaled[:5]"
   ]
  },
  {
   "cell_type": "code",
   "execution_count": 29,
   "id": "6a0906b0",
   "metadata": {},
   "outputs": [],
   "source": [
    "#Output Variable\n",
    "Y = [x[0] for x in X_scaled]"
   ]
  },
  {
   "cell_type": "code",
   "execution_count": 31,
   "id": "e3452ab8",
   "metadata": {},
   "outputs": [
    {
     "data": {
      "text/plain": [
       "[0.10343799834939804,\n",
       " 0.08951883897397017,\n",
       " 0.08848863004079521,\n",
       " 0.08800268243080722,\n",
       " 0.0805636344345716]"
      ]
     },
     "execution_count": 31,
     "metadata": {},
     "output_type": "execute_result"
    }
   ],
   "source": [
    "Y[:5]"
   ]
  },
  {
   "cell_type": "code",
   "execution_count": 34,
   "id": "f2c3473a",
   "metadata": {},
   "outputs": [
    {
     "name": "stdout",
     "output_type": "stream",
     "text": [
      "1006\n"
     ]
    }
   ],
   "source": [
    "#Train and test Split\n",
    "split = int(len(X_scaled) * 0.8)\n",
    "print(split)"
   ]
  },
  {
   "cell_type": "code",
   "execution_count": 35,
   "id": "9e69a651",
   "metadata": {},
   "outputs": [],
   "source": [
    "X_train = X_scaled[:split]\n",
    "X_test = X_scaled[split:len(X_scaled)]\n",
    "Y_train = Y[:split]\n",
    "Y_test = Y[split:len(Y)] "
   ]
  },
  {
   "cell_type": "code",
   "execution_count": 40,
   "id": "b3d82b86",
   "metadata": {},
   "outputs": [],
   "source": [
    "assert len(X_train) == len(Y_train)\n",
    "assert len(X_test) == len(Y_test)"
   ]
  },
  {
   "cell_type": "code",
   "execution_count": 102,
   "id": "5741fd4d",
   "metadata": {},
   "outputs": [
    {
     "data": {
      "text/plain": [
       "252"
      ]
     },
     "execution_count": 102,
     "metadata": {},
     "output_type": "execute_result"
    }
   ],
   "source": [
    "len(X_test)"
   ]
  },
  {
   "cell_type": "code",
   "execution_count": 50,
   "id": "7c29a827",
   "metadata": {},
   "outputs": [],
   "source": [
    "n = 3\n",
    "Xtrain = list()\n",
    "Ytrain = list()\n",
    "Xtest = list()\n",
    "Ytest = list()\n",
    "for i in range(n,len(X_train)):\n",
    "    Xtrain.append(X_train[i-n:i,:X_train.shape[1]])\n",
    "    Ytrain.append(Y_train[i])\n",
    "for i in range(n,len(X_test)):\n",
    "    Xtest.append(X_test[i-n:i,:X_test.shape[1]])\n",
    "    Ytest.append(Y_test[i])"
   ]
  },
  {
   "cell_type": "code",
   "execution_count": 71,
   "id": "f93587e2",
   "metadata": {},
   "outputs": [],
   "source": [
    "Xtrain , Ytrain = (np.array(Xtrain),np.array(Ytrain))\n",
    "Xtrain = np.reshape(Xtrain, (Xtrain.shape[0], Xtrain.shape[1], Xtrain.shape[2]))\n",
    "\n",
    "Xtest, Ytest = (np.array(Xtest),np.array(Ytest))\n",
    "Xtest = np.reshape(Xtest, (Xtest.shape[0], Xtest.shape[1], Xtest.shape[2]))"
   ]
  },
  {
   "cell_type": "code",
   "execution_count": 75,
   "id": "94da8a56",
   "metadata": {},
   "outputs": [
    {
     "name": "stdout",
     "output_type": "stream",
     "text": [
      "(1003, 3, 2)\n",
      "(1003,)\n",
      "------------------------------------------------------------\n",
      "(249, 3, 2)\n",
      "(249,)\n"
     ]
    }
   ],
   "source": [
    "print(Xtrain.shape)\n",
    "print(Ytrain.shape)\n",
    "print('---'*20)\n",
    "print(Xtest.shape)\n",
    "print(Ytest.shape)"
   ]
  },
  {
   "cell_type": "code",
   "execution_count": 81,
   "id": "d37cda34",
   "metadata": {},
   "outputs": [],
   "source": [
    "#LSTM Model\n",
    "from keras.models import Sequential\n",
    "from keras.layers import LSTM, Dense"
   ]
  },
  {
   "cell_type": "code",
   "execution_count": 82,
   "id": "80d6e564",
   "metadata": {},
   "outputs": [
    {
     "name": "stdout",
     "output_type": "stream",
     "text": [
      "Epoch 1/100\n",
      "63/63 [==============================] - 2s 7ms/step - loss: 0.0657 - val_loss: 0.3533\n",
      "Epoch 2/100\n",
      "63/63 [==============================] - 0s 2ms/step - loss: 0.0373 - val_loss: 0.2574\n",
      "Epoch 3/100\n",
      "63/63 [==============================] - 0s 2ms/step - loss: 0.0301 - val_loss: 0.2013\n",
      "Epoch 4/100\n",
      "63/63 [==============================] - 0s 2ms/step - loss: 0.0227 - val_loss: 0.1426\n",
      "Epoch 5/100\n",
      "63/63 [==============================] - 0s 2ms/step - loss: 0.0146 - val_loss: 0.0881\n",
      "Epoch 6/100\n",
      "63/63 [==============================] - 0s 2ms/step - loss: 0.0069 - val_loss: 0.0418\n",
      "Epoch 7/100\n",
      "63/63 [==============================] - 0s 2ms/step - loss: 0.0021 - val_loss: 0.0188\n",
      "Epoch 8/100\n",
      "63/63 [==============================] - 0s 2ms/step - loss: 5.3182e-04 - val_loss: 0.0115\n",
      "Epoch 9/100\n",
      "63/63 [==============================] - 0s 2ms/step - loss: 2.9841e-04 - val_loss: 0.0103\n",
      "Epoch 10/100\n",
      "63/63 [==============================] - 0s 2ms/step - loss: 2.7584e-04 - val_loss: 0.0102\n",
      "Epoch 11/100\n",
      "63/63 [==============================] - 0s 2ms/step - loss: 2.6636e-04 - val_loss: 0.0110\n",
      "Epoch 12/100\n",
      "63/63 [==============================] - 0s 2ms/step - loss: 2.6077e-04 - val_loss: 0.0113\n",
      "Epoch 13/100\n",
      "63/63 [==============================] - 0s 2ms/step - loss: 2.5715e-04 - val_loss: 0.0122\n",
      "Epoch 14/100\n",
      "63/63 [==============================] - 0s 2ms/step - loss: 2.4856e-04 - val_loss: 0.0122\n",
      "Epoch 15/100\n",
      "63/63 [==============================] - 0s 2ms/step - loss: 2.4498e-04 - val_loss: 0.0126\n",
      "Epoch 16/100\n",
      "63/63 [==============================] - 0s 2ms/step - loss: 2.4172e-04 - val_loss: 0.0132\n",
      "Epoch 17/100\n",
      "63/63 [==============================] - 0s 2ms/step - loss: 2.3777e-04 - val_loss: 0.0131\n",
      "Epoch 18/100\n",
      "63/63 [==============================] - 0s 2ms/step - loss: 2.3491e-04 - val_loss: 0.0138\n",
      "Epoch 19/100\n",
      "63/63 [==============================] - 0s 2ms/step - loss: 2.3401e-04 - val_loss: 0.0136\n",
      "Epoch 20/100\n",
      "63/63 [==============================] - 0s 2ms/step - loss: 2.3172e-04 - val_loss: 0.0137\n",
      "Epoch 21/100\n",
      "63/63 [==============================] - 0s 2ms/step - loss: 2.3150e-04 - val_loss: 0.0140\n",
      "Epoch 22/100\n",
      "63/63 [==============================] - 0s 2ms/step - loss: 2.2867e-04 - val_loss: 0.0145\n",
      "Epoch 23/100\n",
      "63/63 [==============================] - 0s 2ms/step - loss: 2.2554e-04 - val_loss: 0.0145\n",
      "Epoch 24/100\n",
      "63/63 [==============================] - 0s 2ms/step - loss: 2.2544e-04 - val_loss: 0.0148\n",
      "Epoch 25/100\n",
      "63/63 [==============================] - 0s 2ms/step - loss: 2.2526e-04 - val_loss: 0.0144\n",
      "Epoch 26/100\n",
      "63/63 [==============================] - 0s 2ms/step - loss: 2.2288e-04 - val_loss: 0.0145\n",
      "Epoch 27/100\n",
      "63/63 [==============================] - 0s 2ms/step - loss: 2.1987e-04 - val_loss: 0.0144\n",
      "Epoch 28/100\n",
      "63/63 [==============================] - 0s 2ms/step - loss: 2.1804e-04 - val_loss: 0.0151\n",
      "Epoch 29/100\n",
      "63/63 [==============================] - 0s 2ms/step - loss: 2.1881e-04 - val_loss: 0.0143\n",
      "Epoch 30/100\n",
      "63/63 [==============================] - 0s 2ms/step - loss: 2.2032e-04 - val_loss: 0.0148\n",
      "Epoch 31/100\n",
      "63/63 [==============================] - 0s 2ms/step - loss: 2.1697e-04 - val_loss: 0.0147\n",
      "Epoch 32/100\n",
      "63/63 [==============================] - 0s 2ms/step - loss: 2.1448e-04 - val_loss: 0.0143\n",
      "Epoch 33/100\n",
      "63/63 [==============================] - 0s 2ms/step - loss: 2.1432e-04 - val_loss: 0.0138\n",
      "Epoch 34/100\n",
      "63/63 [==============================] - 0s 2ms/step - loss: 2.1317e-04 - val_loss: 0.0138\n",
      "Epoch 35/100\n",
      "63/63 [==============================] - 0s 2ms/step - loss: 2.1586e-04 - val_loss: 0.0137\n",
      "Epoch 36/100\n",
      "63/63 [==============================] - 0s 2ms/step - loss: 2.0984e-04 - val_loss: 0.0132\n",
      "Epoch 37/100\n",
      "63/63 [==============================] - 0s 2ms/step - loss: 2.0795e-04 - val_loss: 0.0135\n",
      "Epoch 38/100\n",
      "63/63 [==============================] - 0s 2ms/step - loss: 2.0919e-04 - val_loss: 0.0136\n",
      "Epoch 39/100\n",
      "63/63 [==============================] - 0s 2ms/step - loss: 2.1053e-04 - val_loss: 0.0145\n",
      "Epoch 40/100\n",
      "63/63 [==============================] - 0s 2ms/step - loss: 2.0801e-04 - val_loss: 0.0141\n",
      "Epoch 41/100\n",
      "63/63 [==============================] - 0s 2ms/step - loss: 2.0376e-04 - val_loss: 0.0128\n",
      "Epoch 42/100\n",
      "63/63 [==============================] - 0s 2ms/step - loss: 2.0260e-04 - val_loss: 0.0129\n",
      "Epoch 43/100\n",
      "63/63 [==============================] - 0s 2ms/step - loss: 2.0536e-04 - val_loss: 0.0119\n",
      "Epoch 44/100\n",
      "63/63 [==============================] - 0s 2ms/step - loss: 2.0645e-04 - val_loss: 0.0135\n",
      "Epoch 45/100\n",
      "63/63 [==============================] - 0s 2ms/step - loss: 1.9991e-04 - val_loss: 0.0121\n",
      "Epoch 46/100\n",
      "63/63 [==============================] - 0s 2ms/step - loss: 1.9751e-04 - val_loss: 0.0131\n",
      "Epoch 47/100\n",
      "63/63 [==============================] - 0s 2ms/step - loss: 1.9666e-04 - val_loss: 0.0125\n",
      "Epoch 48/100\n",
      "63/63 [==============================] - 0s 2ms/step - loss: 1.9648e-04 - val_loss: 0.0125\n",
      "Epoch 49/100\n",
      "63/63 [==============================] - 0s 2ms/step - loss: 1.9637e-04 - val_loss: 0.0121\n",
      "Epoch 50/100\n",
      "63/63 [==============================] - 0s 2ms/step - loss: 1.9394e-04 - val_loss: 0.0128\n",
      "Epoch 51/100\n",
      "63/63 [==============================] - 0s 2ms/step - loss: 1.9492e-04 - val_loss: 0.0118\n",
      "Epoch 52/100\n",
      "63/63 [==============================] - 0s 2ms/step - loss: 1.9421e-04 - val_loss: 0.0116\n",
      "Epoch 53/100\n",
      "63/63 [==============================] - 0s 2ms/step - loss: 1.9582e-04 - val_loss: 0.0127\n",
      "Epoch 54/100\n",
      "63/63 [==============================] - 0s 2ms/step - loss: 1.9392e-04 - val_loss: 0.0116\n",
      "Epoch 55/100\n",
      "63/63 [==============================] - 0s 2ms/step - loss: 1.9097e-04 - val_loss: 0.0115\n",
      "Epoch 56/100\n",
      "63/63 [==============================] - 0s 2ms/step - loss: 1.9153e-04 - val_loss: 0.0112\n",
      "Epoch 57/100\n",
      "63/63 [==============================] - 0s 2ms/step - loss: 1.9334e-04 - val_loss: 0.0097\n",
      "Epoch 58/100\n",
      "63/63 [==============================] - 0s 2ms/step - loss: 1.9421e-04 - val_loss: 0.0114\n",
      "Epoch 59/100\n",
      "63/63 [==============================] - 0s 2ms/step - loss: 1.8935e-04 - val_loss: 0.0115\n",
      "Epoch 60/100\n",
      "63/63 [==============================] - 0s 2ms/step - loss: 1.8698e-04 - val_loss: 0.0114\n",
      "Epoch 61/100\n",
      "63/63 [==============================] - 0s 2ms/step - loss: 1.8865e-04 - val_loss: 0.0111\n",
      "Epoch 62/100\n",
      "63/63 [==============================] - 0s 2ms/step - loss: 1.9074e-04 - val_loss: 0.0097\n",
      "Epoch 63/100\n",
      "63/63 [==============================] - 0s 2ms/step - loss: 1.9000e-04 - val_loss: 0.0110\n",
      "Epoch 64/100\n",
      "63/63 [==============================] - 0s 2ms/step - loss: 1.8774e-04 - val_loss: 0.0107\n",
      "Epoch 65/100\n",
      "63/63 [==============================] - 0s 2ms/step - loss: 1.8584e-04 - val_loss: 0.0101\n",
      "Epoch 66/100\n",
      "63/63 [==============================] - 0s 2ms/step - loss: 1.9164e-04 - val_loss: 0.0096\n",
      "Epoch 67/100\n",
      "63/63 [==============================] - 0s 2ms/step - loss: 1.8123e-04 - val_loss: 0.0106\n",
      "Epoch 68/100\n",
      "63/63 [==============================] - 0s 2ms/step - loss: 1.8491e-04 - val_loss: 0.0109\n",
      "Epoch 69/100\n",
      "63/63 [==============================] - 0s 2ms/step - loss: 1.9645e-04 - val_loss: 0.0094\n",
      "Epoch 70/100\n",
      "63/63 [==============================] - 0s 2ms/step - loss: 1.8443e-04 - val_loss: 0.0097\n",
      "Epoch 71/100\n",
      "63/63 [==============================] - 0s 2ms/step - loss: 1.8263e-04 - val_loss: 0.0104\n",
      "Epoch 72/100\n",
      "63/63 [==============================] - 0s 2ms/step - loss: 1.8411e-04 - val_loss: 0.0096\n",
      "Epoch 73/100\n",
      "63/63 [==============================] - 0s 2ms/step - loss: 1.8532e-04 - val_loss: 0.0088\n",
      "Epoch 74/100\n",
      "63/63 [==============================] - 0s 2ms/step - loss: 1.8496e-04 - val_loss: 0.0092\n",
      "Epoch 75/100\n",
      "63/63 [==============================] - 0s 2ms/step - loss: 1.7846e-04 - val_loss: 0.0094\n",
      "Epoch 76/100\n",
      "63/63 [==============================] - 0s 2ms/step - loss: 1.8243e-04 - val_loss: 0.0090\n",
      "Epoch 77/100\n",
      "63/63 [==============================] - 0s 2ms/step - loss: 1.8108e-04 - val_loss: 0.0088\n",
      "Epoch 78/100\n",
      "63/63 [==============================] - 0s 2ms/step - loss: 1.7809e-04 - val_loss: 0.0090\n",
      "Epoch 79/100\n",
      "63/63 [==============================] - 0s 2ms/step - loss: 1.7718e-04 - val_loss: 0.0095\n",
      "Epoch 80/100\n"
     ]
    },
    {
     "name": "stdout",
     "output_type": "stream",
     "text": [
      "63/63 [==============================] - 0s 2ms/step - loss: 1.8155e-04 - val_loss: 0.0086\n",
      "Epoch 81/100\n",
      "63/63 [==============================] - 0s 2ms/step - loss: 1.7859e-04 - val_loss: 0.0089\n",
      "Epoch 82/100\n",
      "63/63 [==============================] - 0s 2ms/step - loss: 1.7976e-04 - val_loss: 0.0087\n",
      "Epoch 83/100\n",
      "63/63 [==============================] - 0s 2ms/step - loss: 1.8068e-04 - val_loss: 0.0081\n",
      "Epoch 84/100\n",
      "63/63 [==============================] - 0s 2ms/step - loss: 1.7588e-04 - val_loss: 0.0092\n",
      "Epoch 85/100\n",
      "63/63 [==============================] - 0s 2ms/step - loss: 1.7776e-04 - val_loss: 0.0082\n",
      "Epoch 86/100\n",
      "63/63 [==============================] - 0s 2ms/step - loss: 1.7791e-04 - val_loss: 0.0089\n",
      "Epoch 87/100\n",
      "63/63 [==============================] - 0s 2ms/step - loss: 1.8061e-04 - val_loss: 0.0087\n",
      "Epoch 88/100\n",
      "63/63 [==============================] - 0s 2ms/step - loss: 1.7578e-04 - val_loss: 0.0082\n",
      "Epoch 89/100\n",
      "63/63 [==============================] - 0s 2ms/step - loss: 1.7781e-04 - val_loss: 0.0080\n",
      "Epoch 90/100\n",
      "63/63 [==============================] - 0s 2ms/step - loss: 1.7371e-04 - val_loss: 0.0082\n",
      "Epoch 91/100\n",
      "63/63 [==============================] - 0s 2ms/step - loss: 1.7319e-04 - val_loss: 0.0082\n",
      "Epoch 92/100\n",
      "63/63 [==============================] - 0s 2ms/step - loss: 1.7436e-04 - val_loss: 0.0083\n",
      "Epoch 93/100\n",
      "63/63 [==============================] - 0s 2ms/step - loss: 1.7950e-04 - val_loss: 0.0073\n",
      "Epoch 94/100\n",
      "63/63 [==============================] - 0s 2ms/step - loss: 1.8078e-04 - val_loss: 0.0083\n",
      "Epoch 95/100\n",
      "63/63 [==============================] - 0s 2ms/step - loss: 1.8080e-04 - val_loss: 0.0077\n",
      "Epoch 96/100\n",
      "63/63 [==============================] - 0s 2ms/step - loss: 1.7253e-04 - val_loss: 0.0084\n",
      "Epoch 97/100\n",
      "63/63 [==============================] - 0s 2ms/step - loss: 1.7090e-04 - val_loss: 0.0078\n",
      "Epoch 98/100\n",
      "63/63 [==============================] - 0s 2ms/step - loss: 1.8163e-04 - val_loss: 0.0072\n",
      "Epoch 99/100\n",
      "63/63 [==============================] - 0s 2ms/step - loss: 1.7829e-04 - val_loss: 0.0063\n",
      "Epoch 100/100\n",
      "63/63 [==============================] - 0s 2ms/step - loss: 1.7474e-04 - val_loss: 0.0065\n"
     ]
    },
    {
     "data": {
      "text/plain": [
       "<keras.callbacks.History at 0x2389b5d8370>"
      ]
     },
     "execution_count": 82,
     "metadata": {},
     "output_type": "execute_result"
    }
   ],
   "source": [
    "model = Sequential()\n",
    "model.add(LSTM(4, input_shape=(Xtrain.shape[1],Xtrain.shape[2])))\n",
    "model.add(Dense(1))\n",
    "model.compile(loss=\"mean_squared_error\", optimizer=\"adam\")\n",
    "model.fit(Xtrain, Ytrain, epochs=100, validation_data=(Xtest, Ytest), batch_size = 16, verbose=1)"
   ]
  },
  {
   "cell_type": "code",
   "execution_count": 83,
   "id": "25ecedb8",
   "metadata": {},
   "outputs": [
    {
     "name": "stdout",
     "output_type": "stream",
     "text": [
      "Model: \"sequential\"\n",
      "_________________________________________________________________\n",
      " Layer (type)                Output Shape              Param #   \n",
      "=================================================================\n",
      " lstm (LSTM)                 (None, 4)                 112       \n",
      "                                                                 \n",
      " dense (Dense)               (None, 1)                 5         \n",
      "                                                                 \n",
      "=================================================================\n",
      "Total params: 117\n",
      "Trainable params: 117\n",
      "Non-trainable params: 0\n",
      "_________________________________________________________________\n"
     ]
    }
   ],
   "source": [
    "model.summary()"
   ]
  },
  {
   "cell_type": "code",
   "execution_count": 84,
   "id": "1d276959",
   "metadata": {},
   "outputs": [
    {
     "name": "stdout",
     "output_type": "stream",
     "text": [
      "32/32 [==============================] - 0s 707us/step\n",
      "8/8 [==============================] - 0s 887us/step\n"
     ]
    }
   ],
   "source": [
    "trainPredict = model.predict(Xtrain)\n",
    "testPredict = model.predict(Xtest)"
   ]
  },
  {
   "cell_type": "code",
   "execution_count": 103,
   "id": "abf8e65a",
   "metadata": {},
   "outputs": [
    {
     "data": {
      "text/plain": [
       "249"
      ]
     },
     "execution_count": 103,
     "metadata": {},
     "output_type": "execute_result"
    }
   ],
   "source": [
    "len(testPredict)"
   ]
  },
  {
   "cell_type": "code",
   "execution_count": 106,
   "id": "959c7215",
   "metadata": {},
   "outputs": [
    {
     "data": {
      "text/plain": [
       "249"
      ]
     },
     "execution_count": 106,
     "metadata": {},
     "output_type": "execute_result"
    }
   ],
   "source": [
    "len(Ytest)"
   ]
  },
  {
   "cell_type": "code",
   "execution_count": 114,
   "id": "b5403d81",
   "metadata": {},
   "outputs": [],
   "source": [
    "trainPredict = np.c_[trainPredict, np.zeros(trainPredict.shape)]\n",
    "testPredict = np.c_[testPredict, np.zeros(testPredict.shape)]"
   ]
  },
  {
   "cell_type": "code",
   "execution_count": 116,
   "id": "5d8c95c2",
   "metadata": {},
   "outputs": [],
   "source": [
    "trainPredict = scaler.inverse_transform(trainPredict)\n",
    "trainPredict = [x[0] for x in trainPredict]\n",
    "\n",
    "testPredict = scaler.inverse_transform(testPredict)\n",
    "testPredict = [x[0] for x in testPredict]"
   ]
  },
  {
   "cell_type": "code",
   "execution_count": 132,
   "id": "87e68ed1",
   "metadata": {},
   "outputs": [
    {
     "name": "stdout",
     "output_type": "stream",
     "text": [
      "249\n",
      "<class 'list'>\n"
     ]
    }
   ],
   "source": [
    "print(len(testPredict))\n",
    "print(type(testPredict))"
   ]
  },
  {
   "cell_type": "code",
   "execution_count": 118,
   "id": "7d81028c",
   "metadata": {},
   "outputs": [
    {
     "data": {
      "text/plain": [
       "date\n",
       "2018-02-01    167.78\n",
       "2018-02-02    160.50\n",
       "2018-02-05    156.49\n",
       "2018-02-06    163.03\n",
       "2018-02-07    159.54\n",
       "Name: close, dtype: float64"
      ]
     },
     "execution_count": 118,
     "metadata": {},
     "output_type": "execute_result"
    }
   ],
   "source": [
    "df.close.tail()"
   ]
  },
  {
   "cell_type": "code",
   "execution_count": 137,
   "id": "a7d83322",
   "metadata": {},
   "outputs": [],
   "source": [
    "eval_df = pd.DataFrame(df['close'][-249:])\n",
    "eval_df = eval_df.reset_index()"
   ]
  },
  {
   "cell_type": "code",
   "execution_count": 138,
   "id": "e7b2def2",
   "metadata": {},
   "outputs": [],
   "source": [
    "pred_df = pd.Series(testPredict).to_frame(name='Predictions')\n",
    "pred_df = pred_df.reset_index(drop=True)"
   ]
  },
  {
   "cell_type": "code",
   "execution_count": 139,
   "id": "fe57a194",
   "metadata": {},
   "outputs": [],
   "source": [
    "eval_df = pd.concat([eval_df,pred_df],axis=1)\n",
    "eval_df = eval_df.set_index('date', drop=True)"
   ]
  },
  {
   "cell_type": "code",
   "execution_count": 140,
   "id": "313a4cfb",
   "metadata": {},
   "outputs": [
    {
     "data": {
      "text/html": [
       "<div>\n",
       "<style scoped>\n",
       "    .dataframe tbody tr th:only-of-type {\n",
       "        vertical-align: middle;\n",
       "    }\n",
       "\n",
       "    .dataframe tbody tr th {\n",
       "        vertical-align: top;\n",
       "    }\n",
       "\n",
       "    .dataframe thead th {\n",
       "        text-align: right;\n",
       "    }\n",
       "</style>\n",
       "<table border=\"1\" class=\"dataframe\">\n",
       "  <thead>\n",
       "    <tr style=\"text-align: right;\">\n",
       "      <th></th>\n",
       "      <th>close</th>\n",
       "      <th>Predictions</th>\n",
       "    </tr>\n",
       "    <tr>\n",
       "      <th>date</th>\n",
       "      <th></th>\n",
       "      <th></th>\n",
       "    </tr>\n",
       "  </thead>\n",
       "  <tbody>\n",
       "    <tr>\n",
       "      <th>2017-02-13</th>\n",
       "      <td>133.290</td>\n",
       "      <td>131.474780</td>\n",
       "    </tr>\n",
       "    <tr>\n",
       "      <th>2017-02-14</th>\n",
       "      <td>135.020</td>\n",
       "      <td>132.347942</td>\n",
       "    </tr>\n",
       "    <tr>\n",
       "      <th>2017-02-15</th>\n",
       "      <td>135.510</td>\n",
       "      <td>133.689662</td>\n",
       "    </tr>\n",
       "    <tr>\n",
       "      <th>2017-02-16</th>\n",
       "      <td>135.345</td>\n",
       "      <td>134.438657</td>\n",
       "    </tr>\n",
       "    <tr>\n",
       "      <th>2017-02-17</th>\n",
       "      <td>135.720</td>\n",
       "      <td>134.330481</td>\n",
       "    </tr>\n",
       "    <tr>\n",
       "      <th>...</th>\n",
       "      <td>...</td>\n",
       "      <td>...</td>\n",
       "    </tr>\n",
       "    <tr>\n",
       "      <th>2018-02-01</th>\n",
       "      <td>167.780</td>\n",
       "      <td>153.213097</td>\n",
       "    </tr>\n",
       "    <tr>\n",
       "      <th>2018-02-02</th>\n",
       "      <td>160.500</td>\n",
       "      <td>154.407953</td>\n",
       "    </tr>\n",
       "    <tr>\n",
       "      <th>2018-02-05</th>\n",
       "      <td>156.490</td>\n",
       "      <td>150.024273</td>\n",
       "    </tr>\n",
       "    <tr>\n",
       "      <th>2018-02-06</th>\n",
       "      <td>163.030</td>\n",
       "      <td>146.633551</td>\n",
       "    </tr>\n",
       "    <tr>\n",
       "      <th>2018-02-07</th>\n",
       "      <td>159.540</td>\n",
       "      <td>149.302111</td>\n",
       "    </tr>\n",
       "  </tbody>\n",
       "</table>\n",
       "<p>249 rows × 2 columns</p>\n",
       "</div>"
      ],
      "text/plain": [
       "              close  Predictions\n",
       "date                            \n",
       "2017-02-13  133.290   131.474780\n",
       "2017-02-14  135.020   132.347942\n",
       "2017-02-15  135.510   133.689662\n",
       "2017-02-16  135.345   134.438657\n",
       "2017-02-17  135.720   134.330481\n",
       "...             ...          ...\n",
       "2018-02-01  167.780   153.213097\n",
       "2018-02-02  160.500   154.407953\n",
       "2018-02-05  156.490   150.024273\n",
       "2018-02-06  163.030   146.633551\n",
       "2018-02-07  159.540   149.302111\n",
       "\n",
       "[249 rows x 2 columns]"
      ]
     },
     "execution_count": 140,
     "metadata": {},
     "output_type": "execute_result"
    }
   ],
   "source": [
    "eval_df"
   ]
  },
  {
   "cell_type": "code",
   "execution_count": 143,
   "id": "07d62804",
   "metadata": {},
   "outputs": [
    {
     "data": {
      "image/png": "[encoded data removed]",
      "text/plain": [
       "<Figure size 1296x1080 with 2 Axes>"
      ]
     },
     "metadata": {
      "needs_background": "light"
     },
     "output_type": "display_data"
    }
   ],
   "source": [
    "fig, (axis1, axis2) = plt.subplots(2, 1, figsize=(18,15))\n",
    "\n",
    "axis1.plot(df['close'][:-249], color = 'blue', label = 'Train')\n",
    "axis1.plot(df['close'][-249:], color = 'green', label = 'Test')\n",
    "axis1.plot(eval_df['Predictions'], color = 'orange', label = 'Predicted', linestyle = '--')\n",
    "axis1.set_xlabel('Dates')\n",
    "axis1.set_ylabel('Stock Prices')\n",
    "axis1.set_title('Stock Price prediction using LSTM')\n",
    "axis1.legend()\n",
    "\n",
    "axis2.plot(eval_df['close'], color = 'green', label = 'Actual')\n",
    "axis2.plot(eval_df['Predictions'], color = 'orange', label = 'Predicted', linestyle = '--')\n",
    "axis2.set_xlabel('Dates')\n",
    "axis2.set_ylabel('Stock Prices')\n",
    "axis2.legend()\n",
    "\n",
    "plt.show()"
   ]
  },
  {
   "cell_type": "code",
   "execution_count": 142,
   "id": "3a04cb0a",
   "metadata": {},
   "outputs": [
    {
     "name": "stdout",
     "output_type": "stream",
     "text": [
      "9.950361183772229\n"
     ]
    }
   ],
   "source": [
    "from sklearn.metrics import mean_squared_error\n",
    "from math import sqrt\n",
    "root_mse = sqrt(mean_squared_error(eval_df['close'],eval_df['Predictions']))\n",
    "print(root_mse)"
   ]
  },
  {
   "cell_type": "raw",
   "id": "1f2ce6ca",
   "metadata": {},
   "source": [
    "If we consider the rmse value, it is a fine model. But analysing the above plot, the prediction is quite accurate in the near future and error is increasing over time."
   ]
  },
  {
   "cell_type": "code",
   "execution_count": null,
   "id": "8ca05e00",
   "metadata": {},
   "outputs": [],
   "source": []
  }
 ],
 "metadata": {
  "kernelspec": {
   "display_name": "Python 3 (ipykernel)",
   "language": "python",
   "name": "python3"
  },
  "language_info": {
   "codemirror_mode": {
    "name": "ipython",
    "version": 3
   },
   "file_extension": ".py",
   "mimetype": "text/x-python",
   "name": "python",
   "nbconvert_exporter": "python",
   "pygments_lexer": "ipython3",
   "version": "3.9.12"
  }
 },
 "nbformat": 4,
 "nbformat_minor": 5
}
